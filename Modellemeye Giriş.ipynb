{
 "cells": [
  {
   "cell_type": "markdown",
   "metadata": {},
   "source": [

    "# Modellemeye Giriş"
   ]
  },
  {
   "cell_type": "code",
   "execution_count": 1,
   "metadata": {
    "ExecuteTime": {
     "end_time": "2020-01-25T09:05:18.332644Z",
     "start_time": "2020-01-25T09:05:15.845461Z"
    }
   },
   "outputs": [],
   "source": [
    "import pandas as pd"

    "# Modellemeye giriş"
   ]
  },
  {
   "cell_type": "markdown",
   "metadata": {},
   "source": [
    "Matematiksel model bir açıklama verir.Olayı ölçülebilir bir hale getirir.Prescriptive 'önerici'\n",
    "Descriptive-İstatistik,EDA (explore data analysis)\n",
    "Predictive-Machine Learning constrainlerini veriyor optimizasyon için\n",
    "Prescriptive-Optimizasyon\n",
    "\n"

   ]
  },
  {
   "cell_type": "markdown",
   "metadata": {},
   "source": [

    "Notlar"
=======
    "## Amaç Fonksiyonu,Kısıtlar,Karar Değişkenleri"

   ]
  },
  {
   "cell_type": "markdown",

   "metadata": {
    "ExecuteTime": {
     "end_time": "2020-01-25T09:05:33.998536Z",
     "start_time": "2020-01-25T09:05:33.995034Z"
    }
   },
   "source": [
    "## Örnek Model Daisy Firması Wozac Ürünü"
=======
   "metadata": {},
   "source": [
    "Amaç Fonksiyonu:Bu modeli kurarken neyi hedefliyorum\n",
    "Karar değişkenleri:Modelimde nerde olduğumu gösteren değişkenler    \n",
    "Kısıtlar:Modelimin sınırlarını belirleyen değerler\n",
    "    Bunlar sonucunda \n",
    "    stochastic:olasılığa bağlılık   "

   ]
  },
  {
   "cell_type": "code",

   "execution_count": 23,
   "metadata": {
    "ExecuteTime": {
     "end_time": "2020-01-25T10:13:44.871251Z",
     "start_time": "2020-01-25T10:13:44.863231Z"
    }
   },
   "outputs": [
    {
     "name": "stdout",
     "output_type": "stream",
     "text": [
      "Kısıtları kontrol ediyoruz :  True True True True True True True True True False True\n",
      "Amaç Değeri  55.18800000000003\n"
     ]
    }
   ],
   "source": [
    "V=2\n",
    "P=300\n",
    "T=150\n",
    "A=0.4\n",
    "B=0.3\n",
    "C=0.1\n",
    "\n",
    "z=300+0.8*V+0.01*P+0.06*T+0.001*T*P-0.01*T*T- .001*P*P+11.7*A+ 9.4*B+16.4*C+19*A*B+11.4*A*C-9.6*B*C\n",
    "\n",
    "print(\"Kısıtları kontrol ediyoruz : \",V <= 5 ,\n",
    "V >= 1,\n",
    "P <= 400\n",
    ",P >= 200\n",
    ",T <= 200\n",
    ",T >= 100\n",
    ",A >= 0\n",
    ",B >= 0\n",
    ",C >= 0\n",
    ",A + B + C == 1\n",
    ",A <= 5 )\n",
    "\n",
    "# Not feasible \n",
    "\n",
    "print(\"Amaç Değeri \",z)\n"
   ]
  },
  {
   "cell_type": "code",
   "execution_count": 24,
   "metadata": {
    "ExecuteTime": {
     "end_time": "2020-01-25T10:13:48.342183Z",
     "start_time": "2020-01-25T10:13:48.334159Z"
    }
   },
   "outputs": [
    {
     "name": "stdout",
     "output_type": "stream",
     "text": [
      "Kısıtları kontrol ediyoruz :  True True True True True True True True True True True\n",
      "Amaç Değeri  209.38442959999998\n"
     ]
    }
   ],
   "source": [
    "V=5\n",
    "P=200\n",
    "T=100\n",
    "A=0.294\n",
    "B=0\n",
    "C=0.706\n",
    "\n",
    "z=300+0.8*V+0.01*P+0.06*T+0.001*T*P-0.01*T*T- .001*P*P+11.7*A+ 9.4*B+16.4*C+19*A*B+11.4*A*C-9.6*B*C\n",
    "\n",
    "print(\"Kısıtları kontrol ediyoruz : \",V <= 5 ,\n",
    "V >= 1,\n",
    "P <= 400\n",
    ",P >= 200\n",
    ",T <= 200\n",
    ",T >= 100\n",
    ",A >= 0\n",
    ",B >= 0\n",
    ",C >= 0\n",
    ",A + B + C == 1\n",
    ",A <= 5 )\n",
    "\n",
    "\n",
    "print(\"Amaç Değeri \",z)"
   ]
  },
  {
   "cell_type": "code",
   "execution_count": 20,
   "metadata": {
    "ExecuteTime": {
     "end_time": "2020-01-25T10:09:47.112778Z",
     "start_time": "2020-01-25T10:09:47.109770Z"
    }
   },
   "outputs": [],
   "source": [
    "\n",
    "\n"
   ]
=======
   "execution_count": null,
   "metadata": {},
   "outputs": [],
   "source": []
  },
  {
   "cell_type": "code",
   "execution_count": null,
   "metadata": {},
   "outputs": [],
   "source": []
  },
  {
   "cell_type": "code",
   "execution_count": null,
   "metadata": {},
   "outputs": [],
   "source": []
  },
  {
   "cell_type": "code",
   "execution_count": null,
   "metadata": {},
   "outputs": [],
   "source": []
  },
  {
   "cell_type": "code",
   "execution_count": null,
   "metadata": {},
   "outputs": [],
   "source": []

  },
  {
   "cell_type": "code",
   "execution_count": null,
   "metadata": {},
   "outputs": [],
   "source": []
  }
 ],
 "metadata": {
  "kernelspec": {
   "display_name": "Python 3",
   "language": "python",
   "name": "python3"
  },
  "language_info": {
   "codemirror_mode": {
    "name": "ipython",
    "version": 3
   },
   "file_extension": ".py",
   "mimetype": "text/x-python",
   "name": "python",
   "nbconvert_exporter": "python",
   "pygments_lexer": "ipython3",
   "version": "3.7.4"
  },
  "toc": {
   "base_numbering": 1,
   "nav_menu": {},
   "number_sections": true,
   "sideBar": true,
   "skip_h1_title": false,
   "title_cell": "Table of Contents",
   "title_sidebar": "Contents",
   "toc_cell": false,
   "toc_position": {},
   "toc_section_display": true,
   "toc_window_display": false
  },
  "varInspector": {
   "cols": {
    "lenName": 16,
    "lenType": 16,
    "lenVar": 40
   },
   "kernels_config": {
    "python": {
     "delete_cmd_postfix": "",
     "delete_cmd_prefix": "del ",
     "library": "var_list.py",
     "varRefreshCmd": "print(var_dic_list())"
    },
    "r": {
     "delete_cmd_postfix": ") ",
     "delete_cmd_prefix": "rm(",
     "library": "var_list.r",
     "varRefreshCmd": "cat(var_dic_list()) "
    }
   },
   "types_to_exclude": [
    "module",
    "function",
    "builtin_function_or_method",
    "instance",
    "_Feature"
   ],
   "window_display": false
  }
 },
 "nbformat": 4,
 "nbformat_minor": 2
}
